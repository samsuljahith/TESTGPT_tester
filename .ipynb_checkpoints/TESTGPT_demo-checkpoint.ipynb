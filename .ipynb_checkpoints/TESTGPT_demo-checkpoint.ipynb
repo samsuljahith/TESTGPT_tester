{
 "cells": [
  {
   "cell_type": "markdown",
   "metadata": {},
   "source": [
    "# TESTGPT Project Demo Notebook\n",
    "\n",
    "This notebook demonstrates the full workflow of the TESTGPT project: loading a YAML spec, running the PlanningAgent, displaying and saving the output as JSON."
   ]
  },
  {
   "cell_type": "markdown",
   "metadata": {},
   "source": [
    "## 1. Setup and Imports"
   ]
  },
  {
   "cell_type": "code",
   "metadata": {},
   "source": [
    "import os\n",
    "import json\n",
    "import yaml\n",
    "import re\n",
    "from agents import Runner\n",
    "from my_agents.planning_agent import planning_agent"
   ]
  },
  {
   "cell_type": "markdown",
   "metadata": {},
   "source": [
    "## 2. Load and Display YAML Spec"
   ]
  },
  {
   "cell_type": "code",
   "metadata": {},
   "source": [
    "with open('sample.yaml') as f:\n",
    "    spec = yaml.safe_load(f)\n",
    "raw = yaml.dump(spec)\n",
    "print('YAML Spec:')\n",
    "print(raw)"
   ]
  },
  {
   "cell_type": "markdown",
   "metadata": {},
   "source": [
    "## 3. Run PlanningAgent via Runner"
   ]
  },
  {
   "cell_type": "code",
   "metadata": {},
   "source": [
    "plan = Runner.run_sync(planning_agent, raw).final_output\n",
    "print(\"📋 PlanningAgent output:\\n\", plan)"
   ]
  },
  {
   "cell_type": "markdown",
   "metadata": {},
   "source": [
    "## 4. Extract and Save JSON Output"
   ]
  },
  {
   "cell_type": "code",
   "metadata": {},
   "source": [
    "# Try to extract JSON code block first\n",
    "match = re.search(r'```json\\s*(.*?)\\s*```', plan, re.DOTALL)\n",
    "if match:\n",
    "    json_str = match.group(1)\n",
    "else:\n",
    "    # Fallback: try to parse the whole output\n",
    "    json_str = plan.strip()\n",
    "try:\n",
    "    os.makedirs('tests', exist_ok=True)\n",
    "    parsed = json.loads(json_str)\n",
    "    with open('tests/backlog.json', 'w') as f:\n",
    "        json.dump(parsed, f, indent=2)\n",
    "    print('Saved to tests/backlog.json')\n",
    "except Exception as e:\n",
    "    print('Failed to parse/save JSON:', e)"
   ]
  },
  {
   "cell_type": "markdown",
   "metadata": {},
   "source": [
    "## 5. (Optional) Explore the Output"
   ]
  },
  {
   "cell_type": "code",
   "metadata": {},
   "source": [
    "# Load and display the saved JSON\n",
    "with open('tests/backlog.json') as f:\n",
    "    output = json.load(f)\n",
    "print('Backlog JSON:')\n",
    "print(json.dumps(output, indent=2))"
   ]
  }
 ],
 "metadata": {
  "kernelspec": {
   "display_name": "Python 3",
   "language": "python",
   "name": "python3"
  },
  "language_info": {
   "name": "python",
   "version": "3.12"
  }
 },
 "nbformat": 4,
 "nbformat_minor": 2
}