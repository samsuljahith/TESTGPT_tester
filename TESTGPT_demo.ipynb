{
 "cells": [
  {
   "cell_type": "markdown",
   "metadata": {},
   "source": [
    "# 🚀 TESTGPT – 10-Minute AI-Testing Challenge\n",
    "### Run **one cell** and watch agents auto-create tests from a YAML spec!"
   ]
  },
  {
   "cell_type": "markdown",
   "metadata": {},
   "source": [
    "## 🔧 Step 0 – Install & Secrets\n",
    "*(Double-click ➜ add your Groq key)*"
   ]
  },
  {
   "cell_type": "code",
   "execution_count": null,
   "metadata": {},
   "outputs": [],
   "source": [
    "%%capture\n",
    "!pip install openai-agents pyyaml"
   ]
  },
  {
   "cell_type": "code",
   "execution_count": null,
   "metadata": {},
   "outputs": [],
   "source": [
    "import os, json, yaml, re\n",
    "from openai import AsyncOpenAI\n",
    "from agents import Agent, Runner, OpenAIChatCompletionsModel\n",
    "\n",
    "# 🔑 Add your Groq key here\n",
    "os.environ[\"GROQ_API_KEY\"] = \"\"  # <-- paste your key inside the quotes"
   ]
  },
  {
   "cell_type": "markdown",
   "metadata": {},
   "source": [
    "## 📝 Step 1 – One-Click Spec (YAML)"
   ]
  },
  {
   "cell_type": "code",
   "execution_count": null,
   "metadata": {},
   "outputs": [],
   "source": [
    "%%writefile sample.yaml\n",
    "product: SpaceRockets\n",
    "version: \"1.0\"\n",
    "openapi:\n",
    "  openapi: 3.0.0\n",
    "  info:\n",
    "    title: Rocket Store API\n",
    "    version: 1.0.0\n",
    "  paths:\n",
    "    /rockets/{id}:\n",
    "      get:\n",
    "        summary: Get one rocket\n",
    "        parameters:\n",
    "          - name: id\n",
    "            in: path\n",
    "            required: true\n",
    "            schema: {type: integer}\n",
    "        responses:\n",
    "          \"200\": {description: Rocket found}\n",
    "user_stories:\n",
    "  - As a customer I can view rocket details\n",
    "nfr:\n",
    "  - p95 latency < 300 ms\n",
    "  - support 1000 concurrent users\n",
    "data_flow:\n",
    "  source: sales_csv\n",
    "  transform: clean + enrich\n",
    "  target: analytics_warehouse"
   ]
  },
  {
   "cell_type": "markdown",
   "metadata": {},
   "source": [
    "## 🤖 Step 2 – Agents in 30 Lines"
   ]
  },
  {
   "cell_type": "code",
   "execution_count": null,
   "metadata": {},
   "outputs": [],
   "source": [
    "# Groq rocket\n",
    "groq_model = OpenAIChatCompletionsModel(\n",
    "    model=\"llama-3.1-8b-instant\",\n",
    "    openai_client=AsyncOpenAI(\n",
    "        base_url=\"https://api.groq.com/openai/v1\",\n",
    "        api_key=os.getenv(\"GROQ_API_KEY\")\n",
    "    )\n",
    ")\n",
    "\n",
    "# Planning agent\n",
    "planning_agent = Agent(\n",
    "    name=\"PlanningAgent\",\n",
    "    instructions=(\n",
    "        \"Reply ONLY with a JSON list like: [{\\\"id\\\":\\\"API-S1\\\",\\\"risk\\\":0.3,\\\"agent\\\":\\\"api\\\"}]\"\n",
    "    ),\n",
    "    model=groq_model\n",
    ")\n",
    "\n",
    "# Orchestrator agent\n",
    "orchestrator = Agent(\n",
    "    name=\"Orchestrator\",\n",
    "    instructions=\"Forward spec to PlanningAgent and save JSON.\",\n",
    "    model=groq_model\n",
    ")"
   ]
  },
  {
   "cell_type": "markdown",
   "metadata": {},
   "source": [
    "## 🏁 Step 3 – Press Run & Watch Magic"
   ]
  },
  {
   "cell_type": "code",
   "execution_count": null,
   "metadata": {},
   "outputs": [],
   "source": [
    "spec = yaml.safe_load(open(\"sample.yaml\"))\n",
    "raw = yaml.dump(spec)\n",
    "\n",
    "plan = Runner.run_sync(planning_agent, raw).final_output\n",
    "print(\"📋 PlanningAgent output:\")\n",
    "print(plan)\n",
    "\n",
    "# Clean JSON block\n",
    "match = re.search(r\"```json\\s*(.*?)\\s*```\", plan, re.DOTALL)\n",
    "json_str = match.group(1) if match else plan.strip()\n",
    "\n",
    "os.makedirs(\"tests\", exist_ok=True)\n",
    "with open(\"tests/backlog.json\", \"w\") as f:\n",
    "    json.dump(json.loads(json_str), f, indent=2)\n",
    "\n",
    "print(\"✅ Saved tests/backlog.json — ready for next robots!\")"
   ]
  },
  {
   "cell_type": "markdown",
   "metadata": {},
   "source": [
    "## 📣 Share It on LinkedIn\n",
    "- ✅ Upload this notebook\n",
    "- ✅ Screenshot the JSON output\n",
    "- ✅ Tag `#TESTGPT #10MinChallenge #AIQA`"
   ]
  }
 ],
 "metadata": {
  "kernelspec": {
   "display_name": "Python 3",
   "language": "python",
   "name": "python3"
  },
  "language_info": {
   "name": "python",
   "version": "3.10"
  }
 },
 "nbformat": 4,
 "nbformat_minor": 4
}